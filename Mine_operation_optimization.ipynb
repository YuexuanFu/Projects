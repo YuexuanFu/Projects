{
 "cells": [
  {
   "cell_type": "code",
   "execution_count": 2,
   "id": "08fac8bf",
   "metadata": {},
   "outputs": [],
   "source": [
    "import numpy as np\n",
    "import pandas as pd\n",
    "\n",
    "import gurobipy as gp\n",
    "from gurobipy import GRB"
   ]
  },
  {
   "cell_type": "markdown",
   "id": "68d37e92",
   "metadata": {},
   "source": [
    "# Mining\n",
    "\n",
    "\n",
    "## Problem Description\n",
    "\n",
    "A mining company needs to create a five-year operating plan for a certain area with four mines in it.\n",
    "\n",
    "They can only operate a maximum of three mines in this area in any given year. However, even though a mine may not operate in a given year, the company still must pay royalties on that mine if there is an expectation that it will operate again in the future. Otherwise, it can be permanently closed and no more royalties need to be paid.\n",
    "\n",
    "The yearly royalties due for each open mine (operating or not) are as follows:\n",
    "\n",
    "| <i></i> | Royalties |\n",
    "| --- | --- |\n",
    "| Mine 1 | $\\$5 Million$ |\n",
    "| Mine 2 | $\\$4 Million$ |\n",
    "| Mine 3 | $\\$4 Million$ |\n",
    "| Mine 4 | $\\$5 Million$ |\n",
    "\n",
    "There is a maximum amount of ore that can be extracted from each mine in a given year. These limits are as follows:\n",
    "\n",
    "| <i></i> | Max Production |\n",
    "| --- | --- |\n",
    "| Mine 1 | $2.0\\times10^6$ Tons |\n",
    "| Mine 2 | $2.5\\times10^6$ Tons |\n",
    "| Mine 3 | $1.3\\times10^6$ Tons |\n",
    "| Mine 4 | $3.0\\times10^6$ Tons |\n",
    "\n",
    "Each mine produces a different grade of ore. This grade is measured on a scale such that blending ores together results in a linear combination of the quality requirements. For example, if equal quantities of ore from two different mines were combined, the resulting ore would have a grade that is the average of the grade for each of the two ores. The grade for each mine’s ore is as follows:\n",
    "\n",
    "| <i></i> | Ore Quality |\n",
    "| --- | --- |\n",
    "| Mine 1 | 1.0 |\n",
    "| Mine 2 | 0.7 |\n",
    "| Mine 3 | 1.5 |\n",
    "| Mine 4 | 0.5 |\n",
    "\n",
    "\n",
    "Each year, the ore produced from each operating mine must be combined to produce ore of a certain grade. The yearly objectives for the combined ore are as follows:\n",
    "\n",
    "| <i></i> | Quality Target |\n",
    "| --- | --- |\n",
    "| Year 1 | 0.9 |\n",
    "| Year 2 | 0.8 |\n",
    "| Year 3 | 1.2 |\n",
    "| Year 4 | 0.6 |\n",
    "| Year 5 | 1.0 |\n",
    "\n",
    "The final blended ore sells for $\\$10$/ton. Revenues and costs for future years are discounted at the rate of $10\\%$ per annum.\n",
    "\n",
    "The key question for the mining company is: Which mines should be operated each year and how much ore should be extracted from each mine?\n",
    "\n",
    "This problem is based on a larger one faced by the firm of English China Clays, which had to in decide which mines to work. In that problem (in the 1970s), the goal was to work up to four mines out of 20 in each year."
   ]
  },
  {
   "cell_type": "markdown",
   "id": "4d21b74e",
   "metadata": {},
   "source": [
    "## Model Formulation\n",
    "\n",
    "### Sets and Indices\n",
    "\n",
    "$t \\in \\text{Years}=\\{1,2,\\dots,5\\}$: Set of years.\n",
    "\n",
    "$m \\in \\text{Mines}=\\{1,2,\\dots,4\\}$: Set of mines.\n",
    "\n",
    "### Parameters\n",
    "\n",
    "$\\text{price} \\in \\mathbb{R}^+$: Selling price (in USD) of one ton of blended ore.\n",
    "\n",
    "$\\text{max_mines} \\in \\mathbb{N}$: Maximum number of mines that can operate in any given year.\n",
    "\n",
    "$\\text{royalties}_m \\in \\mathbb{R}^+$: Yearly royalties (in USD) for having mine $m$ open.\n",
    "\n",
    "$\\text{capacity}_m \\in \\mathbb{R}^+$: Maximum tons of ore that can be extracted from mine $m$ in any given year.\n",
    "\n",
    "$\\text{quality}_m \\in \\mathbb{R}^+$: Quality of the ore extracted from mine $m$.\n",
    "\n",
    "$\\text{target} \\in \\mathbb{R}^+$: Quality target of the blended ore in year $t$.\n",
    "\n",
    "$\\text{time_discount}_t \\in [0,1] \\subset \\mathbb{R}^+$: Time discount for revenue and cost in year $t$.\n",
    "\n",
    "### Decision Variables\n",
    "\n",
    "$\\text{blend}_t \\in \\mathbb{R}^+$: Tons of blended ore in year $t$.\n",
    "\n",
    "$\\text{extract}_{t,m} \\in \\mathbb{R}^+$: Tons of ore extracted from mine $m$ in year $t$.\n",
    "\n",
    "$\\text{working}_{t,m} \\in \\{0,1\\}$: 1 if mine $m$ is working in year $t$, 0 otherwise.\n",
    "\n",
    "$\\text{available}_{t,m} \\in \\{0,1\\}$: 1 if mine $m$ is open in year $t$, 0 otherwise.\n",
    "\n"
   ]
  },
  {
   "cell_type": "markdown",
   "id": "89790d81",
   "metadata": {},
   "source": [
    "### 1. If mining company only operates in the first year, how to maximize the total profit?"
   ]
  },
  {
   "cell_type": "markdown",
   "id": "e0b9264b",
   "metadata": {},
   "source": [
    "### Objective Function\n",
    "\n",
    "**Profits**: Maximize profits from the extraction of ore.\n",
    "\n",
    "- **Profit**: Maximize the total profit (in USD) of the first year.\n",
    "\n",
    "\\begin{equation}\n",
    "\\text{Maximize} \\quad Z = \\sum_{m \\in \\text{Mines}}{\\text{extract}_m*\\text{price}-\\sum_{m \\in \\text{Mines}}{\\text{royalties}_m*\\text{working}_m}}\n",
    "\\tag{0}\n",
    "\\end{equation}"
   ]
  },
  {
   "cell_type": "markdown",
   "id": "8785455f",
   "metadata": {},
   "source": [
    "### Constraints\n",
    "\n",
    "- **Operating Mines**: The total number of operating mines cannot exceed the limit.\n",
    "\n",
    "\\begin{equation}\n",
    "\\sum_{m \\in \\text{Mines}}{\\text{working}_m} \\leq \\text{max_mines} \\quad \n",
    "\\tag{1}\n",
    "\\end{equation}\n",
    "\n",
    "- **Quality**: The final quality of the ore blended in year $t$ must meet the target.\n",
    "\n",
    "\\begin{equation}\n",
    "\\sum_{m \\in \\text{Mines}}{\\text{quality}_m*\\text{extract}_m} =\\sum_{m \\in \\text{Mines}}\\text{target}*\\text{extract}_m \n",
    "\\tag{2}\n",
    "\\end{equation}\n",
    "\n",
    "- **Mine Capacity**: Total tons of ore extracted from mine $m$ in year $t$ cannot exceed the yearly capacity of that mine.\n",
    "\n",
    "\\begin{equation}\n",
    "\\sum_{m \\in \\text{Mines}}{\\text{extract}_m} \\leq \\text{capacity}_m*\\text{working}_m \n",
    "\\tag{3}\n",
    "\\end{equation}"
   ]
  },
  {
   "cell_type": "code",
   "execution_count": 3,
   "id": "9e498d11",
   "metadata": {},
   "outputs": [],
   "source": [
    "mine, quality, royalties, max_production = gp.multidict({\n",
    "    1: [1.0, 5000000, 2000000],\n",
    "    2: [0.7, 4000000, 2500000],\n",
    "    3: [1.5, 4000000, 1300000], \n",
    "    4: [0.5, 5000000, 3000000]\n",
    "})\n",
    "max_mines = 3\n",
    "price = 10\n",
    "quality_target= 0.9"
   ]
  },
  {
   "cell_type": "code",
   "execution_count": 4,
   "id": "c5a1bcb2",
   "metadata": {},
   "outputs": [
    {
     "name": "stdout",
     "output_type": "stream",
     "text": [
      "Restricted license - for non-production use only - expires 2023-10-25\n"
     ]
    }
   ],
   "source": [
    "model1 = gp.Model('Max_first_year')\n",
    "\n",
    "extract = model1.addVars(mine, name=\"Extract\")\n",
    "working = model1.addVars(mine, vtype=GRB.BINARY, name=\"Working\")\n"
   ]
  },
  {
   "cell_type": "code",
   "execution_count": 5,
   "id": "5bfd1ac9",
   "metadata": {},
   "outputs": [],
   "source": [
    " model1.setObjective((gp.quicksum(10 * extract[i] for i in mine)\\\n",
    "                      - gp.quicksum(royalties[i]*-working[i] for i in mine)), \n",
    "                   GRB.MAXIMIZE)\n",
    "    \n"
   ]
  },
  {
   "cell_type": "code",
   "execution_count": 6,
   "id": "cd814983",
   "metadata": {
    "id": "CXSlvIvbU6uS"
   },
   "outputs": [],
   "source": [
    "# can only operate a maximum of three mines in this area in any given year\n",
    "\n",
    "max_mineConstr = model1.addConstr(gp.quicksum(working[i] for i in mine)<=3, name='max_mineConstr')"
   ]
  },
  {
   "cell_type": "code",
   "execution_count": 7,
   "id": "a4be9a55",
   "metadata": {
    "id": "CXSlvIvbU6uS"
   },
   "outputs": [],
   "source": [
    "# quality of the blended ore needs to be 0.9\n",
    "\n",
    "qualityConstr = model1.addConstr((gp.quicksum(extract[i]*quality[i] for i in mine) \\\n",
    "                                 == quality_target * gp.quicksum(extract[i] for i in mine)), \\\n",
    "name='qualityConstr')\n"
   ]
  },
  {
   "cell_type": "code",
   "execution_count": 8,
   "id": "a4c4d01e",
   "metadata": {
    "id": "CXSlvIvbU6uS"
   },
   "outputs": [],
   "source": [
    "# the mine can extract no more than the extract limit and also \n",
    "# that there is only an output if the mine is operational\n",
    "\n",
    "limitConstr = model1.addConstrs((extract[i] <= working[i]*max_production[i] for i in mine), name='limitConstr')"
   ]
  },
  {
   "cell_type": "code",
   "execution_count": 9,
   "id": "b1145914",
   "metadata": {
    "id": "lTimlihKU6uV",
    "outputId": "cafd02bc-f742-443b-8c46-bb492ac8f6b6",
    "scrolled": true
   },
   "outputs": [
    {
     "name": "stdout",
     "output_type": "stream",
     "text": [
      "Gurobi Optimizer version 9.5.1 build v9.5.1rc2 (win64)\n",
      "Thread count: 4 physical cores, 8 logical processors, using up to 8 threads\n",
      "Optimize a model with 6 rows, 8 columns and 16 nonzeros\n",
      "Model fingerprint: 0xdcc57c51\n",
      "Variable types: 4 continuous, 4 integer (4 binary)\n",
      "Coefficient statistics:\n",
      "  Matrix range     [1e-01, 3e+06]\n",
      "  Objective range  [1e+01, 5e+06]\n",
      "  Bounds range     [1e+00, 1e+00]\n",
      "  RHS range        [3e+00, 3e+00]\n",
      "Found heuristic solution: objective 1.300000e+07\n",
      "Presolve time: 0.00s\n",
      "Presolved: 6 rows, 8 columns, 16 nonzeros\n",
      "Variable types: 4 continuous, 4 integer (4 binary)\n",
      "Found heuristic solution: objective 1.400000e+07\n",
      "\n",
      "Root relaxation: objective 7.440909e+07, 3 iterations, 0.00 seconds (0.00 work units)\n",
      "\n",
      "    Nodes    |    Current Node    |     Objective Bounds      |     Work\n",
      " Expl Unexpl |  Obj  Depth IntInf | Incumbent    BestBd   Gap | It/Node Time\n",
      "\n",
      "     0     0 7.4409e+07    0    2 1.4000e+07 7.4409e+07   431%     -    0s\n",
      "H    0     0                    6.300000e+07 7.4409e+07  18.1%     -    0s\n",
      "H    0     0                    7.150000e+07 7.4409e+07  4.07%     -    0s\n",
      "\n",
      "Cutting planes:\n",
      "  RLT: 1\n",
      "\n",
      "Explored 1 nodes (3 simplex iterations) in 0.03 seconds (0.00 work units)\n",
      "Thread count was 8 (of 8 available processors)\n",
      "\n",
      "Solution count 2: 7.15e+07 6.3e+07 \n",
      "\n",
      "Optimal solution found (tolerance 1.00e-04)\n",
      "Best objective 7.150000000000e+07, best bound 7.150000000000e+07, gap 0.0000%\n"
     ]
    }
   ],
   "source": [
    "# Run optimization engine\n",
    "\n",
    "model1.optimize()"
   ]
  },
  {
   "cell_type": "code",
   "execution_count": 10,
   "id": "5985dcd3",
   "metadata": {},
   "outputs": [
    {
     "name": "stdout",
     "output_type": "stream",
     "text": [
      "Extract[1] 2000000.0\n",
      "Extract[2] 1.862645149230957e-09\n",
      "Extract[3] 1300000.0\n",
      "Extract[4] 2449999.999999999\n",
      "Working[1] 1.0\n",
      "Working[2] 0.0\n",
      "Working[3] 1.0\n",
      "Working[4] 1.0\n"
     ]
    }
   ],
   "source": [
    "for x in model1.getVars():\n",
    "    print(x.varName, x.x)"
   ]
  },
  {
   "cell_type": "code",
   "execution_count": 11,
   "id": "5e129e72",
   "metadata": {},
   "outputs": [
    {
     "name": "stdout",
     "output_type": "stream",
     "text": [
      "Obj: 71500000.00000001\n"
     ]
    }
   ],
   "source": [
    "print('Obj: ' + str(model1.objVal))"
   ]
  },
  {
   "cell_type": "markdown",
   "id": "14372993",
   "metadata": {},
   "source": [
    "### 2. If mining company only operates in the first year, and decides to sell the raw ore without mixing. Which mines they should operate to maximize the total profit? The market price for raw ore are as follow:"
   ]
  },
  {
   "cell_type": "markdown",
   "id": "fb5ad20b",
   "metadata": {},
   "source": [
    "| <i></i> | Raw Ore price |\n",
    "| --- | --- |\n",
    "| Mine 1 | 10 |\n",
    "| Mine 2 | 9 |\n",
    "| Mine 3 | 11 |\n",
    "| Mine 4 | 8 |"
   ]
  },
  {
   "cell_type": "markdown",
   "id": "1f01ca83",
   "metadata": {},
   "source": [
    "### Objective function\n",
    "\n",
    "\\begin{equation}\n",
    "\\text{Maximize} \\quad Profit = \\sum_{m \\in \\text{Mines}}{(\\text{price}_m*\\text{extract}_m-\\text{royalties}_m*\\text{working}_{m})}\n",
    "\\tag{0}\n",
    "\\end{equation}\n",
    "\n",
    "### Constraints\n",
    "- **Operating Mines**: The total number of operating mines cannot exceed the limit.\n",
    "\n",
    "\\begin{equation}\n",
    "\\sum_{m \\in \\text{Mines}}{\\text{working}_{m}} \\leq \\text{max_mines}\n",
    "\\tag{1}\n",
    "\\end{equation}\n",
    "\n",
    "- **Mine Capacity**: Total tons of ore extracted from mine $m$ cannot exceed the yearly capacity of that mine.\n",
    "\n",
    "\\begin{equation}\n",
    "\\sum_{m \\in \\text{Mines}}{\\text{extract}_{m}} \\leq \\text{capacity}_m*\\text{working}_{m}\n",
    "\\tag{2}\n",
    "\\end{equation}\n",
    "\n",
    "- **Total profit**: Total Profit cannot be less than 64M dollars.\n",
    "\n",
    "\\begin{equation}\n",
    "\\sum_{m \\in \\text{Mines}}{(\\text{price}_m*\\text{extract}_m-\\text{royalties}_m*\\text{working}_{m})}>=64,000,000\n",
    "\\tag{3}\n",
    "\\end{equation}\n",
    "\n"
   ]
  },
  {
   "cell_type": "code",
   "execution_count": 12,
   "id": "027df8fb",
   "metadata": {},
   "outputs": [],
   "source": [
    "year, goal = gp.multidict({\n",
    "    1: 0.9,\n",
    "    2: 0.8,\n",
    "    3: 1.2,\n",
    "    4: 0.6,\n",
    "    5: 1.0\n",
    "})\n",
    "\n",
    "mine, quality, royalties, maxproduction,price = gp.multidict({\n",
    "    1: [1.0, 5000000, 2000000,10],\n",
    "    2: [0.7, 4000000, 2500000,9],\n",
    "    3: [1.5, 4000000, 1300000,11], \n",
    "    4: [0.5, 5000000, 3000000,8]\n",
    "})"
   ]
  },
  {
   "cell_type": "code",
   "execution_count": 13,
   "id": "8edf03e2",
   "metadata": {},
   "outputs": [],
   "source": [
    "# Parameters\n",
    "\n",
    "max_mines = 3"
   ]
  },
  {
   "cell_type": "code",
   "execution_count": 14,
   "id": "4de198dc",
   "metadata": {},
   "outputs": [],
   "source": [
    "model2= gp.Model('most_profit_and_grade')"
   ]
  },
  {
   "cell_type": "code",
   "execution_count": 15,
   "id": "8a7cef88",
   "metadata": {},
   "outputs": [],
   "source": [
    "blend = model2.addVars(year, name=\"Blend\")\n",
    "extract = model2.addVars(mine, name=\"Extract\")\n",
    "working = model2.addVars(mine, vtype=GRB.BINARY, name=\"Working\")\n",
    "available = model2.addVars(mine, vtype=GRB.BINARY, name=\"Available\")"
   ]
  },
  {
   "cell_type": "code",
   "execution_count": 16,
   "id": "f743baf2",
   "metadata": {},
   "outputs": [],
   "source": [
    "# Operating Mines\n",
    "\n",
    "OperatingMines  = model2.addConstr((gp.quicksum(working[m] for m in mine ) <= max_mines), \"Operating_mines\")\n",
    "\n",
    "# Mass Conservation\n",
    "\n",
    "MassConservation = model2.addConstr((gp.quicksum(extract[m]for m in mine ) == blend[1]), \"Mass Conservation\")\n",
    "\n",
    "# Mine Capacity\n",
    "\n",
    "MineCapacity = model2.addConstrs((extract[m]\n",
    "                                  <= maxproduction[m]*working[m]  for m in mine), \"Capacity\")\n",
    "\n",
    "TotalProfit = model2.addConstr(gp.quicksum(price[m] * extract[m] for m in mine)\n",
    "                                - gp.quicksum(royalties[m]*working[m] for m in mine)>=50000000) "
   ]
  },
  {
   "cell_type": "code",
   "execution_count": 17,
   "id": "a3100311",
   "metadata": {},
   "outputs": [],
   "source": [
    "model2.setObjective((gp.quicksum(price[m] * extract[m] for m in mine) - gp.quicksum(royalties[m]*working[m] for m in mine)), \n",
    "                   GRB.MAXIMIZE)"
   ]
  },
  {
   "cell_type": "code",
   "execution_count": 18,
   "id": "f22bafe4",
   "metadata": {},
   "outputs": [
    {
     "name": "stdout",
     "output_type": "stream",
     "text": [
      "Warning: constraint name \"Mass Conservation\" has a space\n",
      "Gurobi Optimizer version 9.5.1 build v9.5.1rc2 (win64)\n",
      "Thread count: 4 physical cores, 8 logical processors, using up to 8 threads\n",
      "Optimize a model with 7 rows, 17 columns and 25 nonzeros\n",
      "Model fingerprint: 0x4bd9871f\n",
      "Variable types: 9 continuous, 8 integer (8 binary)\n",
      "Coefficient statistics:\n",
      "  Matrix range     [1e+00, 5e+06]\n",
      "  Objective range  [8e+00, 5e+06]\n",
      "  Bounds range     [1e+00, 1e+00]\n",
      "  RHS range        [3e+00, 5e+07]\n",
      "Presolve removed 7 rows and 17 columns\n",
      "Presolve time: 0.00s\n",
      "Presolve: All rows and columns removed\n",
      "\n",
      "Explored 0 nodes (0 simplex iterations) in 0.01 seconds (0.00 work units)\n",
      "Thread count was 1 (of 8 available processors)\n",
      "\n",
      "Solution count 1: 5.25e+07 \n",
      "\n",
      "Optimal solution found (tolerance 1.00e-04)\n",
      "Best objective 5.250000000000e+07, best bound 5.250000000000e+07, gap 0.0000%\n"
     ]
    }
   ],
   "source": [
    "model2.write('Q2.lp')\n",
    "model2.optimize()"
   ]
  },
  {
   "cell_type": "code",
   "execution_count": 19,
   "id": "26c00dba",
   "metadata": {},
   "outputs": [],
   "source": [
    "status = model2.Status\n",
    "if status == GRB.Status.INF_OR_UNBD or status == GRB.Status.INFEASIBLE  or status == GRB.Status.UNBOUNDED:\n",
    "    print('The model cannot be solved because it is infeasible or unbounded')\n",
    "    sys.exit(0)\n",
    "# If the optimization status of the model is not optimal for some other reason, we report that \n",
    "# situation.\n",
    "if status != GRB.Status.OPTIMAL:\n",
    "    print('Optimization was stopped with status ' + str(status))\n",
    "    sys.exit(0)"
   ]
  },
  {
   "cell_type": "code",
   "execution_count": 20,
   "id": "0f2e3d69",
   "metadata": {},
   "outputs": [
    {
     "name": "stdout",
     "output_type": "stream",
     "text": [
      "Blend[1] 7500000.0\n",
      "Blend[2] 0.0\n",
      "Blend[3] 0.0\n",
      "Blend[4] 0.0\n",
      "Blend[5] 0.0\n",
      "Extract[1] 2000000.0\n",
      "Extract[2] 2500000.0\n",
      "Extract[3] 0.0\n",
      "Extract[4] 3000000.0\n",
      "Working[1] 1.0\n",
      "Working[2] 1.0\n",
      "Working[3] 0.0\n",
      "Working[4] 1.0\n",
      "Available[1] 0.0\n",
      "Available[2] 0.0\n",
      "Available[3] 0.0\n",
      "Available[4] 0.0\n"
     ]
    }
   ],
   "source": [
    "for x in model2.getVars():\n",
    "    print(x.varName, x.x)"
   ]
  },
  {
   "cell_type": "code",
   "execution_count": 21,
   "id": "81b4eef9",
   "metadata": {},
   "outputs": [],
   "source": [
    "profit1 = 10 * 2000000.0 + 9 * 2500000.0+ 8*3000000.0"
   ]
  },
  {
   "cell_type": "code",
   "execution_count": 22,
   "id": "1cab7c93",
   "metadata": {},
   "outputs": [],
   "source": [
    "production1 = 7500000"
   ]
  },
  {
   "cell_type": "code",
   "execution_count": 23,
   "id": "4dc6750d",
   "metadata": {},
   "outputs": [
    {
     "name": "stdout",
     "output_type": "stream",
     "text": [
      "They should operate mines 1,2,4\n",
      "The profit is 66500000.0\n",
      "The production is 7500000\n"
     ]
    }
   ],
   "source": [
    "print(f'They should operate mines 1,2,4')\n",
    "print(f'The profit is {profit1}')\n",
    "print(f'The production is {production1}')"
   ]
  },
  {
   "cell_type": "markdown",
   "id": "84ca99e8",
   "metadata": {},
   "source": [
    "### 3. Based on Q2, if mining company decides to reduce labor costs and storage costs by keeping production volumes as small as possible while maximizing total revenue. Both objectives are equally important. What should they do?"
   ]
  },
  {
   "cell_type": "markdown",
   "id": "19ebe337",
   "metadata": {},
   "source": [
    "### Objective function\n",
    "\n",
    "\\begin{equation}\n",
    "\\text{Maximize} \\quad Profit = \\sum_{m \\in \\text{Mines}}{(\\text{price}_m*\\text{extract}_m-\\text{royalties}_m*\\text{working}_{m})}\n",
    "\\tag{1}\n",
    "\\end{equation}\n",
    "\n",
    "\\begin{equation}\n",
    "\\text{Minimize} \\quad Production = \\sum_{m \\in \\text{Mines}}{\\text{extract}_m}\n",
    "\\tag{2}\n",
    "\\end{equation}\n",
    "\n",
    "### Constraints\n",
    "\n",
    "- **Operating Mines**: The total number of operating mines in year $t$ cannot exceed the limit.\n",
    "\n",
    "\\begin{equation}\n",
    "\\sum_{m \\in \\text{Mines}}{\\text{working}_{m}} \\leq \\text{max_mines}\n",
    "\\tag{1}\n",
    "\\end{equation}\n",
    "\n",
    "- **Mine Capacity**: Total tons of ore extracted from mine $m$ in year $t$ cannot exceed the yearly capacity of that mine.\n",
    "\n",
    "\\begin{equation}\n",
    "\\sum_{m \\in \\text{Mines}}{\\text{extract}_{m}} \\leq \\text{capacity}_m*\\text{working}_{m}\n",
    "\\tag{2}\n",
    "\\end{equation}\n",
    "\n",
    "- **Total profit**: Total Profit cannot be less than 64M dollars\n",
    "\n",
    "\\begin{equation}\n",
    "\\sum_{m \\in \\text{Mines}}{(\\text{price}_m*\\text{extract}_m-\\text{royalties}_m*\\text{working}_{m})}>=64,000,000\n",
    "\\tag{3}\n",
    "\\end{equation}\n",
    "\n"
   ]
  },
  {
   "cell_type": "code",
   "execution_count": 24,
   "id": "04ed2c0c",
   "metadata": {},
   "outputs": [],
   "source": [
    "total_production = gp.quicksum(extract[m] for m in mine)"
   ]
  },
  {
   "cell_type": "code",
   "execution_count": 25,
   "id": "b29f5716",
   "metadata": {},
   "outputs": [],
   "source": [
    "model2.setObjective(total_production, \n",
    "                   GRB.MINIMIZE)"
   ]
  },
  {
   "cell_type": "code",
   "execution_count": 26,
   "id": "0d003592",
   "metadata": {},
   "outputs": [
    {
     "name": "stdout",
     "output_type": "stream",
     "text": [
      "Warning: constraint name \"Mass Conservation\" has a space\n",
      "Gurobi Optimizer version 9.5.1 build v9.5.1rc2 (win64)\n",
      "Thread count: 4 physical cores, 8 logical processors, using up to 8 threads\n",
      "Optimize a model with 7 rows, 17 columns and 25 nonzeros\n",
      "Model fingerprint: 0xca8006c2\n",
      "Variable types: 9 continuous, 8 integer (8 binary)\n",
      "Coefficient statistics:\n",
      "  Matrix range     [1e+00, 5e+06]\n",
      "  Objective range  [1e+00, 1e+00]\n",
      "  Bounds range     [1e+00, 1e+00]\n",
      "  RHS range        [3e+00, 5e+07]\n",
      "\n",
      "MIP start from previous solve produced solution with objective 7.1875e+06 (0.01s)\n",
      "Loaded MIP start from previous solve with objective 7.1875e+06\n",
      "\n",
      "Presolve removed 7 rows and 17 columns\n",
      "Presolve time: 0.00s\n",
      "Presolve: All rows and columns removed\n",
      "\n",
      "Explored 0 nodes (0 simplex iterations) in 0.01 seconds (0.00 work units)\n",
      "Thread count was 1 (of 8 available processors)\n",
      "\n",
      "Solution count 1: 7.1875e+06 \n",
      "\n",
      "Optimal solution found (tolerance 1.00e-04)\n",
      "Best objective 7.187500000000e+06, best bound 7.187500000000e+06, gap 0.0000%\n"
     ]
    }
   ],
   "source": [
    "model2.write('Q2.lp')\n",
    "model2.optimize()"
   ]
  },
  {
   "cell_type": "code",
   "execution_count": 27,
   "id": "3e9ca1d0",
   "metadata": {},
   "outputs": [],
   "source": [
    "status = model2.Status\n",
    "if status == GRB.Status.INF_OR_UNBD or status == GRB.Status.INFEASIBLE  or status == GRB.Status.UNBOUNDED:\n",
    "    print('The model cannot be solved because it is infeasible or unbounded')\n",
    "    sys.exit(0)\n",
    "# If the optimization status of the model is not optimal for some other reason, we report that \n",
    "# situation.\n",
    "if status != GRB.Status.OPTIMAL:\n",
    "    print('Optimization was stopped with status ' + str(status))\n",
    "    sys.exit(0)"
   ]
  },
  {
   "cell_type": "code",
   "execution_count": 28,
   "id": "11fb49da",
   "metadata": {},
   "outputs": [
    {
     "name": "stdout",
     "output_type": "stream",
     "text": [
      "Blend[1] 7187500.0\n",
      "Blend[2] 0.0\n",
      "Blend[3] 0.0\n",
      "Blend[4] 0.0\n",
      "Blend[5] 0.0\n",
      "Extract[1] 2000000.0\n",
      "Extract[2] 2500000.0\n",
      "Extract[3] 0.0\n",
      "Extract[4] 2687500.0\n",
      "Working[1] 1.0\n",
      "Working[2] 1.0\n",
      "Working[3] 0.0\n",
      "Working[4] 1.0\n",
      "Available[1] 0.0\n",
      "Available[2] 0.0\n",
      "Available[3] 0.0\n",
      "Available[4] 0.0\n"
     ]
    }
   ],
   "source": [
    "for x in model2.getVars():\n",
    "    print(x.varName, x.x)"
   ]
  },
  {
   "cell_type": "code",
   "execution_count": 29,
   "id": "ef422f70",
   "metadata": {},
   "outputs": [],
   "source": [
    "profit2 = 10 * 2000000.0 + 9 * 2500000.0+ 8*2687500.0"
   ]
  },
  {
   "cell_type": "code",
   "execution_count": 30,
   "id": "f89e6010",
   "metadata": {},
   "outputs": [],
   "source": [
    "production2 = 7187500.0"
   ]
  },
  {
   "cell_type": "code",
   "execution_count": 31,
   "id": "6eca6cbf",
   "metadata": {},
   "outputs": [
    {
     "name": "stdout",
     "output_type": "stream",
     "text": [
      "They should operate mines 1,2,4\n",
      "The profit is 64000000.0\n",
      "The production is 7187500.0\n"
     ]
    }
   ],
   "source": [
    "print(f'They should operate mines 1,2,4')\n",
    "print(f'The profit is {profit2}')\n",
    "print(f'The production is {production2}')"
   ]
  },
  {
   "cell_type": "markdown",
   "id": "beb74d4e",
   "metadata": {},
   "source": [
    "### MINIMAX Objective"
   ]
  },
  {
   "cell_type": "code",
   "execution_count": 32,
   "id": "ae8bab9a",
   "metadata": {},
   "outputs": [],
   "source": [
    "mo = gp.Model(\"multiobj\")"
   ]
  },
  {
   "cell_type": "code",
   "execution_count": 33,
   "id": "163b8fb0",
   "metadata": {},
   "outputs": [],
   "source": [
    "working2 = mo.addVars(mine, vtype=GRB.BINARY, name=\"Working\")"
   ]
  },
  {
   "cell_type": "code",
   "execution_count": 34,
   "id": "f479b780",
   "metadata": {},
   "outputs": [],
   "source": [
    "blend = mo.addVars(year, name=\"Blend\")\n",
    "extract = mo.addVars(mine, name=\"Extract\")\n",
    "working = mo.addVars(mine, vtype=GRB.BINARY, name=\"Working\")\n",
    "available = mo.addVars(mine, vtype=GRB.BINARY, name=\"Available\")"
   ]
  },
  {
   "cell_type": "code",
   "execution_count": 35,
   "id": "10266c8a",
   "metadata": {},
   "outputs": [],
   "source": [
    "#1. Operating Mines\n",
    "\n",
    "OperatingMines  = mo.addConstr((gp.quicksum(working2[m] for m in mine ) == max_mines), \"Operating_mines\")\n",
    "\n",
    "#3. Mass Conservation\n",
    "\n",
    "MassConservation = mo.addConstr((gp.quicksum(extract[m]for m in mine ) == blend[1]), \"Mass Conservation\")\n",
    "\n",
    "#4. Mine Capacity\n",
    "\n",
    "MineCapacity = mo.addConstrs((extract[m]\n",
    "                                  <= maxproduction[m]*working2[m]  for m in mine), \"Capacity\")\n",
    "\n",
    "TotalProfit = mo.addConstr(gp.quicksum(price[m] * extract[m] for m in mine)\n",
    "                                - gp.quicksum(royalties[m]*working2[m] for m in mine)>=50000000) "
   ]
  },
  {
   "cell_type": "code",
   "execution_count": 36,
   "id": "e0d0647d",
   "metadata": {},
   "outputs": [],
   "source": [
    "w1 = 1\n",
    "w2 = 1"
   ]
  },
  {
   "cell_type": "code",
   "execution_count": 37,
   "id": "ace8ee41",
   "metadata": {},
   "outputs": [],
   "source": [
    "Q = mo.addVar(name = \"Q\", lb = -GRB.INFINITY)"
   ]
  },
  {
   "cell_type": "code",
   "execution_count": 38,
   "id": "2fc0d838",
   "metadata": {},
   "outputs": [],
   "source": [
    "sale = gp.quicksum(price[m] * extract[m] for m in mine)\n",
    "cost = gp.quicksum(royalties[m]*working2[m] for m in mine)"
   ]
  },
  {
   "cell_type": "code",
   "execution_count": 39,
   "id": "96649578",
   "metadata": {},
   "outputs": [],
   "source": [
    "goal1 = mo.addConstr((profit1 - w1 * (sale - cost))/profit1<= Q)\n"
   ]
  },
  {
   "cell_type": "code",
   "execution_count": 40,
   "id": "fa0f5227",
   "metadata": {},
   "outputs": [],
   "source": [
    "goal2 = mo.addConstr(w2 * ((gp.quicksum(extract[m] for m in mine)) - production2)/production2<= Q)\n"
   ]
  },
  {
   "cell_type": "code",
   "execution_count": 41,
   "id": "b0ed7b8c",
   "metadata": {},
   "outputs": [
    {
     "name": "stdout",
     "output_type": "stream",
     "text": [
      "Warning: variables 0 and 13 have the same name \"Working[1]\"\n",
      "Warning: constraint name \"Mass Conservation\" has a space\n",
      "Warning: to let Gurobi read it back, use rlp format\n"
     ]
    }
   ],
   "source": [
    "mo.setObjective(Q)\n",
    "mo.write('mining-multiobj.lp')\n"
   ]
  },
  {
   "cell_type": "code",
   "execution_count": 42,
   "id": "f0da6c14",
   "metadata": {},
   "outputs": [
    {
     "name": "stdout",
     "output_type": "stream",
     "text": [
      "Gurobi Optimizer version 9.5.1 build v9.5.1rc2 (win64)\n",
      "Thread count: 4 physical cores, 8 logical processors, using up to 8 threads\n",
      "Optimize a model with 9 rows, 22 columns and 39 nonzeros\n",
      "Model fingerprint: 0xbb4af0e8\n",
      "Variable types: 10 continuous, 12 integer (12 binary)\n",
      "Coefficient statistics:\n",
      "  Matrix range     [1e-07, 5e+06]\n",
      "  Objective range  [1e+00, 1e+00]\n",
      "  Bounds range     [1e+00, 1e+00]\n",
      "  RHS range        [1e+00, 5e+07]\n",
      "Warning: Model contains large matrix coefficient range\n",
      "         Consider reformulating model or setting NumericFocus parameter\n",
      "         to avoid numerical issues.\n",
      "Presolve removed 9 rows and 22 columns\n",
      "Presolve time: 0.00s\n",
      "Presolve: All rows and columns removed\n",
      "\n",
      "Explored 0 nodes (0 simplex iterations) in 0.01 seconds (0.00 work units)\n",
      "Thread count was 1 (of 8 available processors)\n",
      "\n",
      "Solution count 1: 0.210526 \n",
      "\n",
      "Optimal solution found (tolerance 1.00e-04)\n",
      "Best objective 2.105263157895e-01, best bound 2.105263157895e-01, gap 0.0000%\n"
     ]
    }
   ],
   "source": [
    "# Optimize\n",
    "mo.optimize()"
   ]
  },
  {
   "cell_type": "code",
   "execution_count": 43,
   "id": "6bf37bc2",
   "metadata": {
    "scrolled": false
   },
   "outputs": [
    {
     "name": "stdout",
     "output_type": "stream",
     "text": [
      "Working[1] 1.0\n",
      "Working[2] 1.0\n",
      "Working[3] 0.0\n",
      "Working[4] 1.0\n",
      "Blend[1] 7500000.0\n",
      "Blend[2] 0.0\n",
      "Blend[3] 0.0\n",
      "Blend[4] 0.0\n",
      "Blend[5] 0.0\n",
      "Extract[1] 2000000.0\n",
      "Extract[2] 2500000.0\n",
      "Extract[3] 0.0\n",
      "Extract[4] 3000000.0\n",
      "Working[1] 0.0\n",
      "Working[2] 0.0\n",
      "Working[3] 0.0\n",
      "Working[4] 0.0\n",
      "Available[1] 0.0\n",
      "Available[2] 0.0\n",
      "Available[3] 0.0\n",
      "Available[4] 0.0\n",
      "Q 0.210526315789473\n"
     ]
    }
   ],
   "source": [
    "for x in mo.getVars():\n",
    "    print(x.varName, x.x)"
   ]
  },
  {
   "cell_type": "code",
   "execution_count": 44,
   "id": "0b24f4ca",
   "metadata": {
    "scrolled": false
   },
   "outputs": [
    {
     "name": "stdout",
     "output_type": "stream",
     "text": [
      "They should operate mines 1,2,4\n",
      "The profit is 66500000.0\n",
      "The answer is same as Q2\n"
     ]
    }
   ],
   "source": [
    "print(f'They should operate mines 1,2,4')\n",
    "print(f'The profit is {profit1}')\n",
    "\n",
    "print(f'The answer is same as Q2')"
   ]
  },
  {
   "cell_type": "markdown",
   "id": "7ad74d80",
   "metadata": {},
   "source": [
    " ### 4. How to maximize total revenue for five years without considering money discounted every year?"
   ]
  },
  {
   "cell_type": "markdown",
   "id": "e50b0c8a",
   "metadata": {},
   "source": [
    "### Objective Function\n",
    "\n",
    "- **Profit**: Maximize the total profit (in USD) of the planning horizon.\n",
    "\n",
    "\\begin{equation}\n",
    "\\text{Maximize} \\quad Z = \\sum_{t \\in \\text{Years}}\\sum_{m \\in \\text{Mines}}({\\text{price}*\\text{blend}_t-\\text{royalties}_m*\\text{available}_{t,m}})\n",
    "\\tag{0}\n",
    "\\end{equation}\n",
    "\n",
    "### Constraints\n",
    "\n",
    "- **Operating Mines**: The total number of operating mines in year $t$ cannot exceed the limit.\n",
    "\n",
    "\\begin{equation}\n",
    "\\sum_{m \\in \\text{Mines}}{\\text{working}_{t,m}} \\leq \\text{max_mines} \\quad \\forall t \\in \\text{Years}\n",
    "\\tag{1}\n",
    "\\end{equation}\n",
    "\n",
    "- **Quality**: The final quality of the ore blended in year $t$ must meet the target.\n",
    "\n",
    "\\begin{equation}\n",
    "\\sum_{m \\in \\text{Mines}}{\\text{quality}_m*\\text{extract}_{t,m}} = \\text{target}_t*\\text{blended}_t \\quad \\forall t \\in \\text{Years}\n",
    "\\tag{2}\n",
    "\\end{equation}\n",
    "\n",
    "- **Mass Conservation**: Total tons of ore extracted in year $t$ should be equal to the Tons of the ore blended in that year.\n",
    "\n",
    "\\begin{equation}\n",
    "\\sum_{m \\in \\text{Mines}}{\\text{extract}_{t,m}} = \\text{blend}_t \\quad \\forall t \\in \\text{Years}\n",
    "\\tag{3}\n",
    "\\end{equation}\n",
    "\n",
    "- **Mine Capacity**: Total tons of ore extracted from mine $m$ in year $t$ cannot exceed the yearly capacity of that mine.\n",
    "\n",
    "\\begin{equation}\n",
    "\\sum_{m \\in \\text{Mines}}{\\text{extract}_{t,m}} \\leq \\text{capacity}_m*\\text{working}_{t,m} \\quad \\forall t \\in \\text{Years}\n",
    "\\tag{4}\n",
    "\\end{equation}\n",
    "\n",
    "- **Open to Operate**: Mine $m$ can be operated in year $t$ only if it is open in that year. \n",
    "\n",
    "\\begin{equation}\n",
    "\\text{working}_{t,m} \\leq \\text{available}_{t,m} \\quad \\forall (t,m) \\in \\text{Years} \\times \\text{Mines}\n",
    "\\tag{5}\n",
    "\\end{equation}\n",
    "\n",
    "- **Shut Down**: If mine $m$ is closed in year $t$, it cannot be opened again in the future.\n",
    "\n",
    "\\begin{equation}\n",
    "\\text{available}_{t+1,m} \\leq \\text{available}_{t,m} \\quad \\forall (t < 5,m) \\in \\text{Years} \\times \\text{Mines}\n",
    "\\tag{6}\n",
    "\\end{equation}"
   ]
  },
  {
   "cell_type": "code",
   "execution_count": 45,
   "id": "4b148dd7",
   "metadata": {},
   "outputs": [],
   "source": [
    "# Parameters\n",
    "\n",
    "years = [1, 2, 3, 4, 5]\n",
    "mines = [1, 2, 3, 4]\n",
    "\n",
    "royalties = {1: 5e6, 2: 4e6, 3: 4e6, 4: 5e6}\n",
    "capacity = {1: 2e6, 2: 2.5e6, 3: 1.3e6, 4: 3e6}\n",
    "quality  = {1: 1.0, 2: 0.7, 3: 1.5, 4: 0.5}\n",
    "target = {1: 0.9, 2: 0.8, 3: 1.2, 4: 0.6, 5: 1.0}\n",
    "\n",
    "max_mines = 3\n",
    "price = 10"
   ]
  },
  {
   "cell_type": "code",
   "execution_count": 46,
   "id": "8d1a503d",
   "metadata": {},
   "outputs": [],
   "source": [
    "model4 = gp.Model('Mining')\n",
    "\n",
    "blend = model4.addVars(years, name=\"Blend\")\n",
    "extract = model4.addVars(years, mines, name=\"Extract\")\n",
    "working = model4.addVars(years, mines, vtype=GRB.BINARY, name=\"Working\")\n",
    "available = model4.addVars(years, mines, vtype=GRB.BINARY, name=\"Available\")"
   ]
  },
  {
   "cell_type": "code",
   "execution_count": 47,
   "id": "d4e44231",
   "metadata": {},
   "outputs": [],
   "source": [
    "#1. Operating Mines\n",
    "\n",
    "OperatingMines = model4.addConstrs((working.sum(year, '*') <= max_mines for year in years), \"Operating_mines\")"
   ]
  },
  {
   "cell_type": "code",
   "execution_count": 48,
   "id": "4f58217f",
   "metadata": {},
   "outputs": [],
   "source": [
    "#2. Mass Conservation\n",
    "\n",
    "MassConservation = model4.addConstrs((extract.sum(year, '*') == blend[year] \\\n",
    "                                      for year in years), \"Mass Conservation\")"
   ]
  },
  {
   "cell_type": "code",
   "execution_count": 49,
   "id": "63fc136e",
   "metadata": {},
   "outputs": [],
   "source": [
    "#3. Quality\n",
    "\n",
    "Quality = model4.addConstrs((gp.quicksum(quality[mine]*extract[year, mine] for mine in mines)\n",
    "                   == target[year]*blend[year] for year in years), \"Quality\")"
   ]
  },
  {
   "cell_type": "code",
   "execution_count": 50,
   "id": "e7c66dc9",
   "metadata": {},
   "outputs": [],
   "source": [
    "#4. Mine Capacity\n",
    "\n",
    "MineCapacity = model4.addConstrs((extract[year, mine] <= capacity[mine]*working[year, mine] \\\n",
    "                                  for year, mine in extract), \"Capacity\")"
   ]
  },
  {
   "cell_type": "code",
   "execution_count": 51,
   "id": "b211a1e8",
   "metadata": {},
   "outputs": [],
   "source": [
    "#5. Open to operate\n",
    "OpenToOperate = model4.addConstrs((working[year, mine] <= available[year, mine] \\\n",
    "                                   for year, mine in available), \"Open to Operate\")"
   ]
  },
  {
   "cell_type": "code",
   "execution_count": 52,
   "id": "4fe5531a",
   "metadata": {},
   "outputs": [],
   "source": [
    "#6. Shutdown Mine\n",
    "ShutdownMine = model4.addConstrs((available[year+1, mine] <= available[year, mine]\n",
    "                   for year, mine in available if year < years[-1]), \"Shut down\")"
   ]
  },
  {
   "cell_type": "code",
   "execution_count": 53,
   "id": "4d3c1d22",
   "metadata": {},
   "outputs": [],
   "source": [
    "#0. Objective function\n",
    "obj = gp.quicksum(price*blend[year] for year in years) \\\n",
    "- gp.quicksum(royalties[mine] * available[year, mine] for year, mine in available)\n",
    "model4.setObjective(obj, GRB.MAXIMIZE)"
   ]
  },
  {
   "cell_type": "code",
   "execution_count": 54,
   "id": "e32ebd6e",
   "metadata": {},
   "outputs": [
    {
     "name": "stdout",
     "output_type": "stream",
     "text": [
      "Gurobi Optimizer version 9.5.1 build v9.5.1rc2 (win64)\n",
      "Thread count: 4 physical cores, 8 logical processors, using up to 8 threads\n",
      "Optimize a model with 71 rows, 65 columns and 182 nonzeros\n",
      "Model fingerprint: 0xd2a96bb3\n",
      "Variable types: 25 continuous, 40 integer (40 binary)\n",
      "Coefficient statistics:\n",
      "  Matrix range     [5e-01, 3e+06]\n",
      "  Objective range  [1e+01, 5e+06]\n",
      "  Bounds range     [1e+00, 1e+00]\n",
      "  RHS range        [3e+00, 3e+00]\n",
      "Found heuristic solution: objective -0.0000000\n",
      "Presolve removed 13 rows and 13 columns\n",
      "Presolve time: 0.00s\n",
      "Presolved: 58 rows, 52 columns, 135 nonzeros\n",
      "Variable types: 16 continuous, 36 integer (36 binary)\n",
      "\n",
      "Root relaxation: objective 1.875088e+08, 40 iterations, 0.00 seconds (0.00 work units)\n",
      "\n",
      "    Nodes    |    Current Node    |     Objective Bounds      |     Work\n",
      " Expl Unexpl |  Obj  Depth IntInf | Incumbent    BestBd   Gap | It/Node Time\n",
      "\n",
      "     0     0 1.8751e+08    0    4   -0.00000 1.8751e+08      -     -    0s\n",
      "H    0     0                    1.459167e+08 1.8751e+08  28.5%     -    0s\n",
      "H    0     0                    1.584167e+08 1.8751e+08  18.4%     -    0s\n",
      "H    0     0                    1.684167e+08 1.8751e+08  11.3%     -    0s\n",
      "     0     0 1.7660e+08    0    4 1.6842e+08 1.7660e+08  4.86%     -    0s\n",
      "H    0     0                    1.759167e+08 1.7660e+08  0.39%     -    0s\n",
      "\n",
      "Cutting planes:\n",
      "  Implied bound: 1\n",
      "  MIR: 3\n",
      "  Flow cover: 1\n",
      "  RLT: 3\n",
      "  Relax-and-lift: 2\n",
      "\n",
      "Explored 1 nodes (47 simplex iterations) in 0.03 seconds (0.00 work units)\n",
      "Thread count was 8 (of 8 available processors)\n",
      "\n",
      "Solution count 5: 1.75917e+08 1.68417e+08 1.58417e+08 ... -0\n",
      "\n",
      "Optimal solution found (tolerance 1.00e-04)\n",
      "Best objective 1.759166666667e+08, best bound 1.759166666667e+08, gap 0.0000%\n"
     ]
    }
   ],
   "source": [
    "model4.optimize()"
   ]
  },
  {
   "cell_type": "code",
   "execution_count": 55,
   "id": "8a86989d",
   "metadata": {},
   "outputs": [
    {
     "name": "stdout",
     "output_type": "stream",
     "text": [
      "Blend[1] 5749999.999999999\n",
      "Blend[2] 5999999.999999999\n",
      "Blend[3] 3250000.0\n",
      "Blend[4] 5625000.0\n",
      "Blend[5] 5466666.666666666\n",
      "Extract[1,1] 2000000.0\n",
      "Extract[1,2] 0.0\n",
      "Extract[1,3] 1300000.0\n",
      "Extract[1,4] 2450000.000000001\n",
      "Extract[2,1] 0.0\n",
      "Extract[2,2] 2500000.0\n",
      "Extract[2,3] 1300000.0\n",
      "Extract[2,4] 2199999.999999999\n",
      "Extract[3,1] 1950000.0000000002\n",
      "Extract[3,2] 0.0\n",
      "Extract[3,3] 1300000.0\n",
      "Extract[3,4] 0.0\n",
      "Extract[4,1] 124999.99999999997\n",
      "Extract[4,2] 2500000.0\n",
      "Extract[4,3] 0.0\n",
      "Extract[4,4] 3000000.0\n",
      "Extract[5,1] 2000000.0\n",
      "Extract[5,2] 2166666.6666666665\n",
      "Extract[5,3] 1300000.0\n",
      "Extract[5,4] 0.0\n",
      "Working[1,1] 1.0\n",
      "Working[1,2] 0.0\n",
      "Working[1,3] 1.0\n",
      "Working[1,4] 1.0\n",
      "Working[2,1] 0.0\n",
      "Working[2,2] 1.0\n",
      "Working[2,3] 1.0\n",
      "Working[2,4] 1.0\n",
      "Working[3,1] 1.0\n",
      "Working[3,2] 0.0\n",
      "Working[3,3] 1.0\n",
      "Working[3,4] -0.0\n",
      "Working[4,1] 1.0\n",
      "Working[4,2] 1.0\n",
      "Working[4,3] -0.0\n",
      "Working[4,4] 1.0\n",
      "Working[5,1] 1.0\n",
      "Working[5,2] 1.0\n",
      "Working[5,3] 1.0\n",
      "Working[5,4] 0.0\n",
      "Available[1,1] 1.0\n",
      "Available[1,2] 1.0\n",
      "Available[1,3] 1.0\n",
      "Available[1,4] 1.0\n",
      "Available[2,1] 1.0\n",
      "Available[2,2] 1.0\n",
      "Available[2,3] 1.0\n",
      "Available[2,4] 1.0\n",
      "Available[3,1] 1.0\n",
      "Available[3,2] 1.0\n",
      "Available[3,3] 1.0\n",
      "Available[3,4] 1.0\n",
      "Available[4,1] 1.0\n",
      "Available[4,2] 1.0\n",
      "Available[4,3] 1.0\n",
      "Available[4,4] 1.0\n",
      "Available[5,1] 1.0\n",
      "Available[5,2] 1.0\n",
      "Available[5,3] 1.0\n",
      "Available[5,4] 0.0\n"
     ]
    }
   ],
   "source": [
    "for x in model4.getVars():\n",
    "    print(x.varName, x.x)"
   ]
  },
  {
   "cell_type": "code",
   "execution_count": 56,
   "id": "d3e19643",
   "metadata": {},
   "outputs": [
    {
     "name": "stdout",
     "output_type": "stream",
     "text": [
      "Obj: 175916666.66666666\n"
     ]
    }
   ],
   "source": [
    "print('Obj: ' + str(model4.objVal))"
   ]
  },
  {
   "cell_type": "markdown",
   "id": "e136e610",
   "metadata": {},
   "source": [
    "### 5. How to maximize total revenue for five years considering money discounted every year?"
   ]
  },
  {
   "cell_type": "markdown",
   "id": "045f7bb7",
   "metadata": {},
   "source": [
    "### Objective Function\n",
    "\n",
    "- **Profit**: Maximize the total profit (in USD) of the planning horizon.\n",
    "\n",
    "\\begin{equation}\n",
    "\\text{Maximize} \\quad Z = \\sum_{t \\in \\text{Years}}\\sum_{m \\in \\text{Mines}}{\\text{time_discount}_t*(\\text{price}*\\text{blend}_t-\\text{royalties}_m*\\text{avilable}_{t,m})}\n",
    "\\tag{0}\n",
    "\\end{equation}\n",
    "\n",
    "### Constraints\n",
    "\n",
    "- **Operating Mines**: The total number of operating mines in year $t$ cannot exceed the limit.\n",
    "\n",
    "\\begin{equation}\n",
    "\\sum_{m \\in \\text{Mines}}{\\text{working}_{t,m}} \\leq \\text{max_mines} \\quad \\forall t \\in \\text{Years}\n",
    "\\tag{1}\n",
    "\\end{equation}\n",
    "\n",
    "- **Quality**: The final quality of the ore blended in year $t$ must meet the target.\n",
    "\n",
    "\\begin{equation}\n",
    "\\sum_{m \\in \\text{Mines}}{\\text{quality}_m*\\text{extract}_{t,m}} = \\text{target}_t*\\text{blended}_t \\quad \\forall t \\in \\text{Years}\n",
    "\\tag{2}\n",
    "\\end{equation}\n",
    "\n",
    "- **Mass Conservation**: Total tons of ore extracted in year $t$ should be equal to the Tons of the ore blended in that year.\n",
    "\n",
    "\\begin{equation}\n",
    "\\sum_{m \\in \\text{Mines}}{\\text{extract}_{t,m}} = \\text{blend}_t \\quad \\forall t \\in \\text{Years}\n",
    "\\tag{3}\n",
    "\\end{equation}\n",
    "\n",
    "- **Mine Capacity**: Total tons of ore extracted from mine $m$ in year $t$ cannot exceed the yearly capacity of that mine.\n",
    "\n",
    "\\begin{equation}\n",
    "\\sum_{m \\in \\text{Mines}}{\\text{extract}_{t,m}} \\leq \\text{capacity}_m*\\text{working}_{t,m} \\quad \\forall t \\in \\text{Years}\n",
    "\\tag{4}\n",
    "\\end{equation}\n",
    "\n",
    "- **Open to Operate**: Mine $m$ can be operated in year $t$ only if it is open in that year. \n",
    "\n",
    "\\begin{equation}\n",
    "\\text{working}_{t,m} \\leq \\text{available}_{t,m} \\quad \\forall (t,m) \\in \\text{Years} \\times \\text{Mines}\n",
    "\\tag{5}\n",
    "\\end{equation}\n",
    "\n",
    "- **Shut Down**: If mine $m$ is closed in year $t$, it cannot be opened again in the future.\n",
    "\n",
    "\\begin{equation}\n",
    "\\text{available}_{t+1,m} \\leq \\text{available}_{t,m} \\quad \\forall (t < 5,m) \\in \\text{Years} \\times \\text{Mines}\n",
    "\\tag{6}\n",
    "\\end{equation}"
   ]
  },
  {
   "cell_type": "code",
   "execution_count": 57,
   "id": "37f7055d",
   "metadata": {},
   "outputs": [],
   "source": [
    "# Parameters\n",
    "\n",
    "years = [1, 2, 3, 4, 5]\n",
    "mines = [1, 2, 3, 4]\n",
    "\n",
    "royalties = {1: 5e6, 2: 4e6, 3: 4e6, 4: 5e6}\n",
    "capacity = {1: 2e6, 2: 2.5e6, 3: 1.3e6, 4: 3e6}\n",
    "quality  = {1: 1.0, 2: 0.7, 3: 1.5, 4: 0.5}\n",
    "target = {1: 0.9, 2: 0.8, 3: 1.2, 4: 0.6, 5: 1.0}\n",
    "time_discount = {year: (1/(1+1/10.0)) ** (year-1) for year in years}\n",
    "\n",
    "max_mines = 3\n",
    "price = 10"
   ]
  },
  {
   "cell_type": "code",
   "execution_count": 58,
   "id": "ea8167a7",
   "metadata": {},
   "outputs": [],
   "source": [
    "model5 = gp.Model('Mining')\n",
    "\n",
    "blend = model5.addVars(years, name=\"Blend\")\n",
    "extract = model5.addVars(years, mines, name=\"Extract\")\n",
    "working = model5.addVars(years, mines, vtype=GRB.BINARY, name=\"Working\")\n",
    "available = model5.addVars(years, mines, vtype=GRB.BINARY, name=\"Available\")"
   ]
  },
  {
   "cell_type": "code",
   "execution_count": 59,
   "id": "616ec90a",
   "metadata": {},
   "outputs": [],
   "source": [
    "#1. Operating Mines\n",
    "\n",
    "OperatingMines = model5.addConstrs((working.sum(year, '*') <= max_mines for year in years), \"Operating_mines\")"
   ]
  },
  {
   "cell_type": "code",
   "execution_count": 60,
   "id": "20c3b733",
   "metadata": {},
   "outputs": [],
   "source": [
    "#2. Quality\n",
    "\n",
    "Quality = model5.addConstrs((gp.quicksum(quality[mine]*extract[year, mine] for mine in mines)\n",
    "                   == target[year]*blend[year] for year in years), \"Quality\")"
   ]
  },
  {
   "cell_type": "code",
   "execution_count": 61,
   "id": "664e66a2",
   "metadata": {},
   "outputs": [],
   "source": [
    "#3. Mass Conservation\n",
    "\n",
    "MassConservation = model5.addConstrs((extract.sum(year, '*') == blend[year] for year in years), \"Mass Conservation\")"
   ]
  },
  {
   "cell_type": "code",
   "execution_count": 62,
   "id": "9c5c64b5",
   "metadata": {},
   "outputs": [],
   "source": [
    "#4. Mine Capacity\n",
    "\n",
    "MineCapacity = model5.addConstrs((extract[year, mine] <= capacity[mine]*working[year, mine] for year, mine in extract), \"Capacity\")"
   ]
  },
  {
   "cell_type": "code",
   "execution_count": 63,
   "id": "57ff6ead",
   "metadata": {},
   "outputs": [],
   "source": [
    "# Open to operate\n",
    "OpenToOperate = model5.addConstrs((working[year, mine] <= available[year, mine] for year, mine in available), \"Open to Operate\")"
   ]
  },
  {
   "cell_type": "code",
   "execution_count": 64,
   "id": "91f5a9dd",
   "metadata": {},
   "outputs": [],
   "source": [
    "# Shutdown Mine\n",
    "ShutdownMine = model5.addConstrs((available[year+1, mine] <= available[year, mine]\n",
    "                   for year, mine in available if year < years[-1]), \"Shut down\")"
   ]
  },
  {
   "cell_type": "code",
   "execution_count": 65,
   "id": "fdf8d8f5",
   "metadata": {},
   "outputs": [],
   "source": [
    "#0. Objective function\n",
    "obj = gp.quicksum(price*time_discount[year]*blend[year] for year in years) \\\n",
    "- gp.quicksum(royalties[mine] * time_discount[year] * available[year, mine] for year, mine in available)\n",
    "\n",
    "model5.setObjective(obj, GRB.MAXIMIZE)"
   ]
  },
  {
   "cell_type": "code",
   "execution_count": 66,
   "id": "44b7b40b",
   "metadata": {},
   "outputs": [
    {
     "name": "stdout",
     "output_type": "stream",
     "text": [
      "Gurobi Optimizer version 9.5.1 build v9.5.1rc2 (win64)\n",
      "Thread count: 4 physical cores, 8 logical processors, using up to 8 threads\n",
      "Optimize a model with 71 rows, 65 columns and 182 nonzeros\n",
      "Model fingerprint: 0xbc1c2f7b\n",
      "Variable types: 25 continuous, 40 integer (40 binary)\n",
      "Coefficient statistics:\n",
      "  Matrix range     [5e-01, 3e+06]\n",
      "  Objective range  [7e+00, 5e+06]\n",
      "  Bounds range     [1e+00, 1e+00]\n",
      "  RHS range        [3e+00, 3e+00]\n",
      "Found heuristic solution: objective -0.0000000\n",
      "Presolve removed 13 rows and 13 columns\n",
      "Presolve time: 0.00s\n",
      "Presolved: 58 rows, 52 columns, 135 nonzeros\n",
      "Variable types: 16 continuous, 36 integer (36 binary)\n",
      "\n",
      "Root relaxation: objective 1.577309e+08, 40 iterations, 0.00 seconds (0.00 work units)\n",
      "\n",
      "    Nodes    |    Current Node    |     Objective Bounds      |     Work\n",
      " Expl Unexpl |  Obj  Depth IntInf | Incumbent    BestBd   Gap | It/Node Time\n",
      "\n",
      "     0     0 1.5773e+08    0    4   -0.00000 1.5773e+08      -     -    0s\n",
      "H    0     0                    1.189074e+08 1.5773e+08  32.7%     -    0s\n",
      "H    0     0                    1.302711e+08 1.5773e+08  21.1%     -    0s\n",
      "H    0     0                    1.393620e+08 1.5773e+08  13.2%     -    0s\n",
      "     0     0 1.4919e+08    0    4 1.3936e+08 1.4919e+08  7.05%     -    0s\n",
      "H    0     0                    1.468620e+08 1.4919e+08  1.59%     -    0s\n",
      "\n",
      "Cutting planes:\n",
      "  Implied bound: 2\n",
      "  MIR: 3\n",
      "  Flow cover: 1\n",
      "  RLT: 3\n",
      "  Relax-and-lift: 2\n",
      "\n",
      "Explored 1 nodes (47 simplex iterations) in 0.02 seconds (0.00 work units)\n",
      "Thread count was 8 (of 8 available processors)\n",
      "\n",
      "Solution count 5: 1.46862e+08 1.39362e+08 1.30271e+08 ... -0\n",
      "\n",
      "Optimal solution found (tolerance 1.00e-04)\n",
      "Best objective 1.468619743642e+08, best bound 1.468619743642e+08, gap 0.0000%\n"
     ]
    }
   ],
   "source": [
    "model5.optimize()"
   ]
  },
  {
   "cell_type": "code",
   "execution_count": 67,
   "id": "f35bc894",
   "metadata": {},
   "outputs": [
    {
     "data": {
      "text/html": [
       "<div>\n",
       "<style scoped>\n",
       "    .dataframe tbody tr th:only-of-type {\n",
       "        vertical-align: middle;\n",
       "    }\n",
       "\n",
       "    .dataframe tbody tr th {\n",
       "        vertical-align: top;\n",
       "    }\n",
       "\n",
       "    .dataframe thead th {\n",
       "        text-align: right;\n",
       "    }\n",
       "</style>\n",
       "<table border=\"1\" class=\"dataframe\">\n",
       "  <thead>\n",
       "    <tr style=\"text-align: right;\">\n",
       "      <th></th>\n",
       "      <th>1</th>\n",
       "      <th>2</th>\n",
       "      <th>3</th>\n",
       "      <th>4</th>\n",
       "    </tr>\n",
       "  </thead>\n",
       "  <tbody>\n",
       "    <tr>\n",
       "      <th>1</th>\n",
       "      <td>2.00</td>\n",
       "      <td>0.00</td>\n",
       "      <td>1.3</td>\n",
       "      <td>2.45</td>\n",
       "    </tr>\n",
       "    <tr>\n",
       "      <th>2</th>\n",
       "      <td>0.00</td>\n",
       "      <td>2.50</td>\n",
       "      <td>1.3</td>\n",
       "      <td>2.20</td>\n",
       "    </tr>\n",
       "    <tr>\n",
       "      <th>3</th>\n",
       "      <td>1.95</td>\n",
       "      <td>0.00</td>\n",
       "      <td>1.3</td>\n",
       "      <td>0.00</td>\n",
       "    </tr>\n",
       "    <tr>\n",
       "      <th>4</th>\n",
       "      <td>0.12</td>\n",
       "      <td>2.50</td>\n",
       "      <td>0.0</td>\n",
       "      <td>3.00</td>\n",
       "    </tr>\n",
       "    <tr>\n",
       "      <th>5</th>\n",
       "      <td>2.00</td>\n",
       "      <td>2.17</td>\n",
       "      <td>1.3</td>\n",
       "      <td>0.00</td>\n",
       "    </tr>\n",
       "  </tbody>\n",
       "</table>\n",
       "</div>"
      ],
      "text/plain": [
       "      1     2    3     4\n",
       "1  2.00  0.00  1.3  2.45\n",
       "2  0.00  2.50  1.3  2.20\n",
       "3  1.95  0.00  1.3  0.00\n",
       "4  0.12  2.50  0.0  3.00\n",
       "5  2.00  2.17  1.3  0.00"
      ]
     },
     "execution_count": 67,
     "metadata": {},
     "output_type": "execute_result"
    }
   ],
   "source": [
    "rows = years.copy()\n",
    "columns = mines.copy()\n",
    "extraction = pd.DataFrame(columns=columns, index=rows, data=0.0)\n",
    "\n",
    "for year, mine in extract.keys():\n",
    "    if (abs(extract[year, mine].x) > 1e-6):\n",
    "        extraction.loc[year, mine] = np.round(extract[year, mine].x / 1e6, 2)\n",
    "extraction"
   ]
  },
  {
   "cell_type": "code",
   "execution_count": null,
   "id": "8baca6da",
   "metadata": {},
   "outputs": [],
   "source": []
  },
  {
   "cell_type": "code",
   "execution_count": null,
   "id": "3ad95ab2",
   "metadata": {},
   "outputs": [],
   "source": []
  }
 ],
 "metadata": {
  "kernelspec": {
   "display_name": "Python 3 (ipykernel)",
   "language": "python",
   "name": "python3"
  },
  "language_info": {
   "codemirror_mode": {
    "name": "ipython",
    "version": 3
   },
   "file_extension": ".py",
   "mimetype": "text/x-python",
   "name": "python",
   "nbconvert_exporter": "python",
   "pygments_lexer": "ipython3",
   "version": "3.9.13"
  }
 },
 "nbformat": 4,
 "nbformat_minor": 5
}
